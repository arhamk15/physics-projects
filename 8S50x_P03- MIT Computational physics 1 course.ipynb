{
  "cells": [
    {
      "cell_type": "markdown",
      "id": "5ecda13d",
      "metadata": {
        "tags": [
          "learner",
          "md",
          "learner_chopped"
        ],
        "id": "5ecda13d"
      },
      "source": [
        "<hr style=\"height: 1px;\">\n",
        "<i>This notebook was authored by the 8.S50x Course Team, Copyright 2022 MIT All Rights Reserved.</i>\n",
        "<hr style=\"height: 1px;\">\n",
        "<br>\n",
        "\n",
        "<h1>Guided Problem Set 3: Fourier Analysis</h1>\n"
      ]
    },
    {
      "cell_type": "markdown",
      "id": "67b2e44d",
      "metadata": {
        "tags": [
          "learner",
          "md",
          "learner_chopped"
        ],
        "id": "67b2e44d"
      },
      "source": [
        "<a name='section_3_0'></a>\n",
        "<hr style=\"height: 1px;\">\n",
        "\n",
        "\n",
        "## <h2 style=\"border:1px; border-style:solid; padding: 0.25em; color: #FFFFFF; background-color: #90409C\">P3.0 Overview</h2>\n"
      ]
    },
    {
      "cell_type": "markdown",
      "id": "99aec46d",
      "metadata": {
        "tags": [
          "learner",
          "md",
          "learner_chopped"
        ],
        "id": "99aec46d"
      },
      "source": [
        "<h3>Navigation</h3>\n",
        "\n",
        "<table style=\"width:100%\">\n",
        "    <tr>\n",
        "        <td style=\"text-align: left; vertical-align: top; font-size: 10pt;\"><a href=\"#section_3_1\">P3.1 Frequency Analysis</a></td>\n",
        "        <td style=\"text-align: left; vertical-align: top; font-size: 10pt;\"><a href=\"#problems_3_1\">P3.1 Problems</a></td>\n",
        "    </tr>\n",
        "    <tr>\n",
        "        <td style=\"text-align: left; vertical-align: top; font-size: 10pt;\"><a href=\"#section_3_2\">P3.2 The Discrete Fourier Transform</a></td>\n",
        "        <td style=\"text-align: left; vertical-align: top; font-size: 10pt;\"><a href=\"#problems_3_2\">P3.2 Problems</a></td>\n",
        "    </tr>\n",
        "    <tr>\n",
        "        <td style=\"text-align: left; vertical-align: top; font-size: 10pt;\"><a href=\"#section_3_3\">P3.3 Spectrogram and Q-Transform</a></td>\n",
        "        <td style=\"text-align: left; vertical-align: top; font-size: 10pt;\"><a href=\"#problems_3_3\">P3.3 Problems</a></td>\n",
        "    </tr>\n",
        "</table>"
      ]
    },
    {
      "cell_type": "markdown",
      "id": "8d242c6c",
      "metadata": {
        "tags": [
          "learner",
          "catsoop_00",
          "md"
        ],
        "id": "8d242c6c"
      },
      "source": [
        "<h3>Learning Objectives</h3>\n",
        "\n",
        "The goal of this exercise is to prepare you for analyzing data in Fourier space. These exercises will show you how to go from a simple set of frequencies to a full data analysis. As an example, we will use music, but this can easily be applied to any setup in frequency space.\n",
        "\n",
        "In this problem set we will explore the following objectives:\n",
        "\n",
        "- Understand the frequency analysis of continuous and discrete time signals\n",
        "- Visualize the connection between time and frequency space\n",
        "- Characterize the energy/power carried by different frequencies\n",
        "- Filter to remove noise from a signal by visualizing its spectral content\n"
      ]
    },
    {
      "cell_type": "markdown",
      "id": "b01ba171",
      "metadata": {
        "tags": [
          "learner",
          "md",
          "learner_chopped"
        ],
        "id": "b01ba171"
      },
      "source": [
        "<h3>Importing Data (Colab Only)</h3>\n",
        "\n",
        "If you are in a Google Colab environment, run the cell below to import the data for this notebook. Otherwise, if you have downloaded the course repository, you do not have to run the cell below.\n",
        "\n",
        "See the source and attribution information below:\n",
        "\n",
        "\n",
        ">data: data/P03/track.flac <br>\n",
        ">source: https://freesound.org/s/647536/ <br>\n",
        ">attribution: Bertsz <br>\n",
        ">license type: This work is licensed under the Creative Commons 0 License."
      ]
    },
    {
      "cell_type": "code",
      "execution_count": 1,
      "id": "ac38e4b0",
      "metadata": {
        "tags": [
          "learner",
          "py",
          "learner_chopped"
        ],
        "id": "ac38e4b0",
        "outputId": "1bde1aec-76b1-44c4-ab29-4554758e1e16",
        "colab": {
          "base_uri": "https://localhost:8080/"
        }
      },
      "outputs": [
        {
          "output_type": "stream",
          "name": "stdout",
          "text": [
            "\u001b[33mhint: Using 'master' as the name for the initial branch. This default branch name\u001b[m\n",
            "\u001b[33mhint: is subject to change. To configure the initial branch name to use in all\u001b[m\n",
            "\u001b[33mhint: of your new repositories, which will suppress this warning, call:\u001b[m\n",
            "\u001b[33mhint: \u001b[m\n",
            "\u001b[33mhint: \tgit config --global init.defaultBranch <name>\u001b[m\n",
            "\u001b[33mhint: \u001b[m\n",
            "\u001b[33mhint: Names commonly chosen instead of 'master' are 'main', 'trunk' and\u001b[m\n",
            "\u001b[33mhint: 'development'. The just-created branch can be renamed via this command:\u001b[m\n",
            "\u001b[33mhint: \u001b[m\n",
            "\u001b[33mhint: \tgit branch -m <name>\u001b[m\n",
            "Initialized empty Git repository in /content/.git/\n",
            "Updating origin\n",
            "remote: Enumerating objects: 742, done.\u001b[K\n",
            "remote: Counting objects: 100% (117/117), done.\u001b[K\n",
            "remote: Compressing objects: 100% (65/65), done.\u001b[K\n",
            "remote: Total 742 (delta 55), reused 52 (delta 52), pack-reused 625 (from 3)\u001b[K\n",
            "Receiving objects: 100% (742/742), 37.42 MiB | 14.26 MiB/s, done.\n",
            "Resolving deltas: 100% (348/348), done.\n",
            "From https://github.com/mitx-8s50/nb_LEARNER\n",
            " * [new branch]      Alex       -> origin/Alex\n",
            " * [new branch]      main       -> origin/main\n",
            "From https://github.com/mitx-8s50/nb_LEARNER\n",
            " * branch            main       -> FETCH_HEAD\n"
          ]
        }
      ],
      "source": [
        "#>>>RUN: P3.0-runcell00\n",
        "\n",
        "#Importing data:\n",
        "\n",
        "!git init\n",
        "!git remote add -f origin https://github.com/mitx-8s50/nb_LEARNER/\n",
        "!git config core.sparseCheckout true\n",
        "!echo 'data/P03' >> .git/info/sparse-checkout\n",
        "!git pull origin main"
      ]
    },
    {
      "cell_type": "markdown",
      "id": "1a3c16f1",
      "metadata": {
        "tags": [
          "learner",
          "md"
        ],
        "id": "1a3c16f1"
      },
      "source": [
        "<h3>Importing Libraries</h3>\n",
        "\n",
        "Before beginning, run the cells below to import the relevant libraries for this notebook.\n",
        "\n",
        "This set of problems uses libraries that are specific playing audio files, which we will use to demonstrate Fourier techniques.\n",
        "\n",
        "For both the local Juypter and Colab environments, you will need to run the code cells below."
      ]
    },
    {
      "cell_type": "code",
      "execution_count": null,
      "id": "8340804f",
      "metadata": {
        "tags": [
          "learner",
          "py",
          "learner_chopped"
        ],
        "id": "8340804f"
      },
      "outputs": [],
      "source": [
        "#>>>RUN: P3.0-runcell01\n",
        "\n",
        "!pip install soundfile"
      ]
    },
    {
      "cell_type": "code",
      "execution_count": null,
      "id": "77f9b6fc",
      "metadata": {
        "tags": [
          "learner",
          "py",
          "learner_chopped"
        ],
        "id": "77f9b6fc"
      },
      "outputs": [],
      "source": [
        "#>>>RUN: P3.0-runcell02\n",
        "\n",
        "import numpy as np                  #https://numpy.org/doc/stable/\n",
        "import matplotlib.pyplot as plt     #https://matplotlib.org/stable/api/_as_gen/matplotlib.pyplot.html\n",
        "import math                         #https://docs.python.org/3/library/math.html\n",
        "from scipy.io.wavfile import write  #https://docs.scipy.org/doc/scipy/reference/generated/scipy.io.wavfile.write.html"
      ]
    },
    {
      "cell_type": "markdown",
      "id": "fb0742b4",
      "metadata": {
        "tags": [
          "learner",
          "md"
        ],
        "id": "fb0742b4"
      },
      "source": [
        "<h3>Setting Default Figure Parameters</h3>\n",
        "\n",
        "The following code cell sets default values for figure parameters."
      ]
    },
    {
      "cell_type": "code",
      "execution_count": null,
      "id": "117e8de2",
      "metadata": {
        "tags": [
          "learner",
          "py",
          "learner_chopped"
        ],
        "id": "117e8de2"
      },
      "outputs": [],
      "source": [
        "#>>>RUN: P3.0-runcell03\n",
        "\n",
        "#set plot resolution\n",
        "%config InlineBackend.figure_format = 'retina'\n",
        "\n",
        "#set default figure parameters\n",
        "plt.rcParams['figure.figsize'] = (9,6)\n",
        "\n",
        "medium_size = 12\n",
        "large_size = 15\n",
        "\n",
        "plt.rc('font', size=medium_size)          # default text sizes\n",
        "plt.rc('xtick', labelsize=medium_size)    # xtick labels\n",
        "plt.rc('ytick', labelsize=medium_size)    # ytick labels\n",
        "plt.rc('legend', fontsize=medium_size)    # legend\n",
        "plt.rc('axes', titlesize=large_size)      # axes title\n",
        "plt.rc('axes', labelsize=large_size)      # x and y labels\n",
        "plt.rc('figure', titlesize=large_size)    # figure title"
      ]
    },
    {
      "cell_type": "markdown",
      "id": "cc915348",
      "metadata": {
        "tags": [
          "learner",
          "md",
          "learner_chopped"
        ],
        "id": "cc915348"
      },
      "source": [
        "<a name='section_3_1'></a>\n",
        "<hr style=\"height: 1px;\">\n",
        "\n",
        "## <h2 style=\"border:1px; border-style:solid; padding: 0.25em; color: #FFFFFF; background-color: #90409C\">P3.1 Frequency Analysis</h2>    \n",
        "\n",
        "| [Top](#section_3_0) | [Previous Section](#section_3_0) | [Problems](#problems_3_1) | [Next Section](#section_3_2) |\n"
      ]
    },
    {
      "cell_type": "markdown",
      "id": "2181195f",
      "metadata": {
        "tags": [
          "learner",
          "catsoop_01",
          "md"
        ],
        "id": "2181195f"
      },
      "source": [
        "<h3>Motivation: Gravitational Waves/LIGO</h3>\n",
        "\n",
        "Every massive object that accelerates produces gravitational waves. These gravitational waves can be intuitively understood as \"ripples\" in space-time that travel at the speed of light. One of the largest sources of continuous gravitational waves are spinning or orbiting massive objects such as neutron stars and black holes. Much can be learned about these objects by studying their gravitational wave signals, so they are the primary focus of the gravitational wave detectors in the US (LIGO).\n",
        "\n",
        "\n",
        "Compact Binary Inspiral Gravitational Waves are of particular interest and show up as significant detections in LIGO. These waves are created by one of three sources:\n",
        "\n",
        "- Binary Neutron Stars (BNS)\n",
        "- Binary Black Hole (BBH)\n",
        "- Neutron Star-Black Hole Binary (NSBH)\n"
      ]
    },
    {
      "cell_type": "markdown",
      "id": "ba9a63ff",
      "metadata": {
        "tags": [
          "learner",
          "catsoop_01",
          "md"
        ],
        "id": "ba9a63ff"
      },
      "source": [
        "<p align=\"center\">\n",
        "<img alt=\"interferometer setup\" src=\"https://raw.githubusercontent.com/mitx-8s50/images/main/P03/ligo.jpg\" width=\"600\"/>\n",
        "</p>\n",
        "\n",
        ">source: https://www.ligo.caltech.edu/page/ligos-ifo<br>\n",
        ">attribution: Caltech/MIT/LIGO Lab"
      ]
    },
    {
      "cell_type": "markdown",
      "id": "31b5bcdb",
      "metadata": {
        "tags": [
          "learner",
          "catsoop_01",
          "md"
        ],
        "id": "31b5bcdb"
      },
      "source": [
        "When these events occur, they are measured on Earth at one of the LIGO detectors. When the gravitational waves from a cataclysmic merger pass through the earth, they warp space-time, changing the length of a 4km LIGO arm by a thousandth of the diameter of a proton. Amazingly, the LIGO detector is sensitive to these very small changes, and thus can generate strain vs. time data for the gravitation wave.\n",
        "\n",
        "Strain is the instrument's detected space change within an arm in comparison to the total space (length) of the arm. In the event of a detectable merger, this strain data will form a \"gravitational wave signal\".\n",
        "\n",
        "Of course, many other effects can produce small changes in the arm lengths. The goal of the LIGO experimental analysis is to separate (often called \"filter\") these uninteresting noise signals from the signal, and then extract parameters from the signal itself using a so-called template fit. What this means is that the signal is compared to a prediction (the template) of what it would look like for a particular type of source, for example a binary black hole merger. These templates are adjusted by varying parameters, such as the masses of the two black holes, until the best possible match to the data is found. This is analogous to other fits to data that you have already seen in this course, albeit with a much more complicated \"function\". These parameters can give insight about the specific event, or even more global properties of the universe itself."
      ]
    },
    {
      "cell_type": "markdown",
      "id": "884c1061",
      "metadata": {
        "tags": [
          "learner",
          "catsoop_01",
          "md"
        ],
        "id": "884c1061"
      },
      "source": [
        "<h3>Frequency Analysis</h3>\n",
        "\n",
        "<p align=\"center\">\n",
        "<img alt=\"gravitational wave strain vs. time\" src=\"https://raw.githubusercontent.com/mitx-8s50/images/main/P03/strain.png\" width=\"800\"/>\n",
        "</p>\n",
        "\n",
        ">source: Project 1\n",
        "\n",
        "Often, the time-series data (strain as a function of time) is too noisy/messy for easy analysis, so instead we can consider the underlying frequency representation of the same information. This allows us to concentrate on the frequencies for which we expect the black hole merger signal to dominate and easily filter out frequencies that come from power lines, earthquake disturbances, or other noise sources.\n",
        "\n",
        "If we are able to convert the time-series data to frequency-based data, remove (filter out) the noise frequencies, and then convert the remaining signal back to time-series data, we can get a 'cleaner' time-series version of the data. This cleaned (or \"filtered\") version is then much easier to analyze in further research.\n",
        "\n",
        "These translations of time-series data to frequency-based, and vice versa, are called Fourier transforms and inverse Fourier transforms, respectively, and are the main focus of this problem set.\n",
        "\n",
        "\n",
        "\n",
        "**Fourier Transform**<br />\n",
        "*Space or Time Functions* &rarr; *Spatial or Temporal Frequencies* <br />\n",
        "\n",
        "**Inverse Fourier Transform**<br />\n",
        "*Spatial or Temporal Frequencies* &rarr; *Space or Time Functions*"
      ]
    },
    {
      "cell_type": "markdown",
      "id": "8db09261",
      "metadata": {
        "tags": [
          "learner",
          "catsoop_01",
          "md"
        ],
        "id": "8db09261"
      },
      "source": [
        "<h3>What is meant by \"Frequency Space\"</h3>\n",
        "\n",
        "In 1807, Joseph Fourier posited that any periodic signal could be represented by a sum of a particular set of harmonic sinusoids.\n",
        "\n",
        "In other words, all signals can be decomposed into elemental sine and cosine components, as follows:\n",
        "\n",
        "$$f(t) = c_0 + \\sum\\limits_{k=1}^\\infty (c_k\\cos(k\\omega_o t) + d_k\\sin(k\\omega_o t))$$\n",
        "\n",
        "\n",
        "The images below show examples of decomposing a relatively complicated looking distribution into a sum of sinusoidal waves. Note that this example may not show all of the contributions.\n"
      ]
    },
    {
      "cell_type": "markdown",
      "id": "dca7d606",
      "metadata": {
        "tags": [
          "learner",
          "catsoop_01",
          "md"
        ],
        "id": "dca7d606"
      },
      "source": [
        "<p align=\"center\">\n",
        "<img  alt=\"wave decomposition gif\" src=\"https://raw.githubusercontent.com/mitx-8s50/images/main/P03/decompose.gif\" width=\"800\"/>\n",
        "</p>\n",
        "\n",
        "\n",
        ">source: https://www.3blue1brown.com/lessons/fourier-transforms<br>\n",
        ">attribution: 3blue1brown"
      ]
    },
    {
      "cell_type": "markdown",
      "id": "0329f230",
      "metadata": {
        "tags": [
          "learner",
          "catsoop_01",
          "md"
        ],
        "id": "0329f230"
      },
      "source": [
        "<p align=\"center\">\n",
        "<img  alt=\"wave decomposition time signals\" src=\"https://raw.githubusercontent.com/mitx-8s50/images/main/P03/recompose.gif\" width=\"800\"/>\n",
        "</p>\n",
        "\n",
        ">source: https://www.3blue1brown.com/lessons/fourier-transforms<br>\n",
        ">attribution: 3blue1brown"
      ]
    },
    {
      "cell_type": "markdown",
      "id": "358f4438",
      "metadata": {
        "tags": [
          "learner",
          "catsoop_01",
          "md"
        ],
        "id": "358f4438"
      },
      "source": [
        "<h3>Using Euler's Formula for Fourier Decomposition</h3>\n",
        "\n",
        "The decomposition of $f(t)$ shown above includes both sine and cosine terms. In order to \"simplify\" the notation, it is common to compress these two together using <a href=\"https://en.wikipedia.org/wiki/Complex_number\" target=\"_blank\">complex numbers</a> and <a href=\"https://en.wikipedia.org/wiki/Euler%27s_formula\" target=\"_blank\">Euler's Formula</a>:\n",
        "\n",
        "$$e^{ix} = \\cos(x) + i\\sin(x)$$\n",
        "\n",
        "One way that complex numbers are often displayed is as a point in a two-dimensional space where the Y axis is the imaginary component and the X axis is the real one. Using the diagram below, we can write:\n",
        "\n",
        "$$x+yi=|z|\\cos(\\theta)+i|z|\\sin(\\theta)=|z|e^{i\\theta}$$\n",
        "\n",
        "where $|z|$ is the magnitude of the complex number, $|z|=\\sqrt{x^2+y^2}$.\n",
        "\n",
        "<p align=\"center\">\n",
        "<img alt=\"complex number unit circle\" src=\"https://raw.githubusercontent.com/mitx-8s50/images/main/P03/plane.png\" width=\"300\"/>\n",
        "</p>\n",
        "\n",
        ">source: https://commons.wikimedia.org/wiki/File:Argandgaussplane.png<br>\n",
        ">attribution: Image by LeonardoG, CC-SA-3.0\n",
        "\n",
        "\n",
        "In the discussion starting in the next section, we will use the $e^{ix}$ notation instead of plain sine and cosine functions.  \n",
        "\n",
        "Note that a detailed understanding of all the complexities of imaginary numbers (a very bad pun) is not required to complete the material in this course, but at least a basic knowledge would be helpful.\n"
      ]
    },
    {
      "cell_type": "markdown",
      "id": "7f797144",
      "metadata": {
        "tags": [
          "learner",
          "catsoop_01",
          "md"
        ],
        "id": "7f797144"
      },
      "source": [
        "<h3>Visualization</h3>\n",
        "\n",
        "The following animation shows how a very non-sinusoidal wave form (a triangular shape) can be generated by superimposing successively higher frequency sinusoidal contributions. Since a sine function can be represented as the projection of circular motion onto one of the axes, a sum of sine functions corresponds to adding ever faster circular motions on top of each other (looking closely, you can see that the line in each successive circle rotates faster and faster). In this case, the lengths of the lines (i.e. the radii of the circles) correspond to the complex amplitudes $|z_{k}|$ that combine the coefficients $c_{k}$ or $d_{k}$ in the formula shown above."
      ]
    },
    {
      "cell_type": "markdown",
      "id": "3a4e94a5",
      "metadata": {
        "tags": [
          "learner",
          "catsoop_01",
          "md"
        ],
        "id": "3a4e94a5"
      },
      "source": [
        "<p align=\"center\">\n",
        "<img alt=\"unit circle wave decomposition\" src=\"https://raw.githubusercontent.com/mitx-8s50/images/main/P03/sawtooth.gif\" width=\"800\"/>\n",
        "</p>\n",
        "\n",
        ">source: https://commons.wikimedia.org/wiki/File:Animation_zum_Verst%C3%A4ndnis_der_Fourierentwicklung.gif<br>\n",
        ">attribution: PZim, CC BY-SA 3.0 <https://creativecommons.org/licenses/by-sa/3.0>, via Wikimedia Commons\n"
      ]
    },
    {
      "cell_type": "markdown",
      "id": "fb9c4f98",
      "metadata": {
        "tags": [
          "learner",
          "md",
          "learner_chopped"
        ],
        "id": "fb9c4f98"
      },
      "source": [
        "<a name='problems_3_1'></a>     \n",
        "\n",
        "| [Top](#section_3_0) | [Restart Section](#section_3_1) | [Next Section](#section_3_2) |\n"
      ]
    },
    {
      "cell_type": "markdown",
      "id": "5167532b",
      "metadata": {
        "tags": [
          "learner",
          "md",
          "learner_chopped"
        ],
        "id": "5167532b"
      },
      "source": [
        "### <span style=\"border:3px; border-style:solid; padding: 0.15em; border-color: #90409C; color: #90409C;\">Problem-3.1.1</span>\n",
        "\n",
        "The code below plots a function in the space or time domain. What will its frequency domain look like? Specifically, how many peaks will it have and will they have the same height?\n",
        "\n",
        "Answer in the form of a list with the first element indicating how many peaks there are and the second element being 1 if all the peaks are the same height or 0 if not (e.g. `[2,0]` for two peaks with different heights).\n",
        "\n",
        "*Hint: Look at the function written in the code below. Try plotting this yourself! We will learn how to plot functions in the frequency domain in the next section.*\n"
      ]
    },
    {
      "cell_type": "code",
      "execution_count": null,
      "id": "d4d15f0d",
      "metadata": {
        "tags": [
          "draft",
          "py",
          "learner_chopped"
        ],
        "id": "d4d15f0d"
      },
      "outputs": [],
      "source": [
        "#>>>PROBLEM: P3.1.1\n",
        "# Use this cell for drafting your solution (if desired),\n",
        "# then enter your solution in the interactive problem online to be graded.\n",
        "\n",
        "import numpy as np\n",
        "import matplotlib.pyplot as plt\n",
        "\n",
        "x = np.arange(0,4*np.pi,0.01)   # start,stop,step\n",
        "y = np.sin(x) + np.sin(3*x) + np.sin(4*x) + np.sin(15*x) + np.sin(7*x) + .3*np.sin(20*x)\n",
        "\n",
        "plt.plot(x, y)\n",
        "\n",
        "#plot labels and style\n",
        "plt.xlabel('x', fontsize=15) #Label x\n",
        "plt.ylabel('y', fontsize=15)#Label y\n",
        "\n",
        "# changing the fontsize of ticks\n",
        "plt.xticks(fontsize=12)\n",
        "plt.yticks(fontsize=12)\n",
        "plt.show()"
      ]
    },
    {
      "cell_type": "markdown",
      "id": "5d48cd02",
      "metadata": {
        "tags": [
          "learner",
          "md",
          "learner_chopped"
        ],
        "id": "5d48cd02"
      },
      "source": [
        "### <span style=\"border:3px; border-style:solid; padding: 0.15em; border-color: #90409C; color: #90409C;\">Problem-3.1.2</span>\n",
        "\n",
        "Consider the formula in the code cell shown below, which shows a function composed of several frequency components. Run the code and view the plot that is generated.\n",
        "\n",
        "Approximately what are the maximum and minimum values of the total signal amplitude? Enter your answer as a list of numbers `[max,min]` with precision 1e-1.\n",
        "\n",
        "*Hint: Write some additional code to find the max/min values.*\n"
      ]
    },
    {
      "cell_type": "code",
      "execution_count": null,
      "id": "edb93809",
      "metadata": {
        "tags": [
          "draft",
          "py",
          "learner_chopped"
        ],
        "id": "edb93809"
      },
      "outputs": [],
      "source": [
        "#>>>PROBLEM: P3.1.2\n",
        "\n",
        "import numpy as np\n",
        "import matplotlib.pyplot as plt\n",
        "\n",
        "x = np.arange(0,4*np.pi,0.01)   # start,stop,step\n",
        "y = np.sin(x) + np.sin(4*x) + np.sin(20*x)\n",
        "\n",
        "plt.plot(x, y)\n",
        "\n",
        "#plot labels and style\n",
        "plt.xlabel('x', fontsize=15) #Label x\n",
        "plt.ylabel('y', fontsize=15)#Label y\n",
        "\n",
        "# changing the fontsize of ticks\n",
        "plt.xticks(fontsize=12)\n",
        "plt.yticks(fontsize=12)\n",
        "plt.show()"
      ]
    },
    {
      "cell_type": "markdown",
      "id": "0afc967f",
      "metadata": {
        "tags": [
          "learner",
          "md",
          "learner_chopped"
        ],
        "id": "0afc967f"
      },
      "source": [
        "### <span style=\"border:3px; border-style:solid; padding: 0.15em; border-color: #90409C; color: #90409C;\">Problem-3.1.3</span>\n",
        "\n",
        "Suppose that the code in Problem 3.1.2 was changed so that the $\\sin(4x)$ term became $\\sin(3x)$. Would the maximum amplitude be larger or smaller?\n",
        "\n",
        "*Hint: Try plotting this yourself!*"
      ]
    },
    {
      "cell_type": "markdown",
      "id": "e605ceb8",
      "metadata": {
        "tags": [
          "learner",
          "md",
          "learner_chopped"
        ],
        "id": "e605ceb8"
      },
      "source": [
        "<a name='section_3_2'></a>\n",
        "<hr style=\"height: 1px;\">\n",
        "\n",
        "## <h2 style=\"border:1px; border-style:solid; padding: 0.25em; color: #FFFFFF; background-color: #90409C\">P3.2 The Discrete Fourier Transform</h2>    \n",
        "\n",
        "| [Top](#section_3_0) | [Previous Section](#section_3_1) | [Problems](#problems_3_2) | [Next Section](#section_3_3) |\n"
      ]
    },
    {
      "cell_type": "markdown",
      "id": "4219b1d0",
      "metadata": {
        "tags": [
          "learner",
          "catsoop_02",
          "md"
        ],
        "id": "4219b1d0"
      },
      "source": [
        "<h3>Overview</h3>\n",
        "\n",
        "- The decomposition of a signal into a sum of sinusoidal terms can characterized by their frequencies.\n",
        "- A mathematical method can be used to treat the components of a signal with a given frequency range differently than components at other frequencies.\n"
      ]
    },
    {
      "cell_type": "markdown",
      "id": "f25ce8be",
      "metadata": {
        "tags": [
          "learner",
          "catsoop_02",
          "md"
        ],
        "id": "f25ce8be"
      },
      "source": [
        "<h3>Analysis Using Discrete Fourier Transforms</h3>\n",
        "\n",
        "We want to figure out how to determine the coefficients $c_{k}$ and $d_{k}$ in the expression of an arbitrary signal in terms of sinusoidal functions (or more exactly, the equivalent coefficients when the $e^{ix}$ notation is used), essentially asking how much a particular frequency contributes to the signal. This can be done by multiplying the signal by a sinusoid of that frequency and then summing that product over all the data in the signal.\n",
        "\n",
        "Continuous Fourier Transforms can be performed if the \"data\" is a known continuous function. In that case, the product of the function and the sinusoid would be integrated over all time.\n",
        "\n",
        "However, measured data always consists of values of some observable at discrete points in time, and therefore the product must be summed in what is called a Discrete Fourier Transform.\n",
        "\n",
        "The results of this summing over time are called the *Fourier frequency coefficients*:\n",
        "\n",
        "$$ X[k] = \\frac{1}{N}\\sum\\limits_{n=1}^{N-1} x[n]e^{-i\\frac{2\\pi k}{N} n} $$\n",
        "<br>\n",
        "\n",
        "where $x[n]$ are the $N$ discrete points in the data ($x[0]\\ldots x[N-1]$) which are multiplied by the sinusoid $e^{-i\\frac{2\\pi k}{N} n}$ and then summed over all $N$ points to yield the resulting frequency coefficients $X[k]$. Expressed most simply, $X[k]$ is large if sinusoids of frequency $(2\\pi k)/N$ contribute strongly to the dataset $x[n]$. Note that while the data $x[n]$ is discrete, the frequency coefficients $X[k]$ are continuous.\n",
        "\n",
        "<br>\n",
        "\n",
        "<h4>Note on \"Frequency\"</h4>\n",
        "\n",
        "When we use the word \"frequency\" in this course, we will most often be referring to what is also called the \"angular frequency\", which is measured in radians per second and denoted using the symbol $\\omega$. The more common definition of frequency in terms of cycles per second is usually denoted $f$. The two are related by $f=\\omega/(2\\pi)$. In the formula shown above, $\\omega=(2\\pi k)/N$ and $f=k/N$\n",
        "\n",
        "<h4>Fourier Frequency Coefficients for a Pure Sinusoid</h4>\n",
        "\n",
        "Suppose that the data can be represented as a single sinusoid with amplitude $1$ and frequency $\\omega = (2\\pi j)/N$: $x[n]=e^{-i\\frac{2\\pi j}{N} n}$.\n",
        "\n",
        "In this case, not surprisingly, there is only one frequency coefficient:\n",
        "\n",
        "$$X[k] = \\frac{1}{N}\\sum\\limits_{n=1}^{N-1} (e^{-i\\frac{2\\pi j}{N} n})(e^{i\\frac{2\\pi k}{N} n}) = \\frac{N}{N}\\delta_{jk} = \\delta_{jk}$$\n",
        "\n",
        "where the \"delta\" function $\\delta_{jk}$ is $1$ if $j=k$ and zero otherwise.\n",
        "<br>\n",
        "\n",
        "<h4>The DC Term</h4>\n",
        "\n",
        "If the average value of a signal over one period is non-zero, i.e. the data has a constant offset, the signal will have a 0 frequency coefficient $X[0]$. This is also called the \"DC\" term, by analogy to electrical circuits, where \"DC\" refers to a constant voltage."
      ]
    },
    {
      "cell_type": "markdown",
      "id": "42ef4936",
      "metadata": {
        "tags": [
          "learner",
          "catsoop_02",
          "md"
        ],
        "id": "42ef4936"
      },
      "source": [
        "<h3>Synthesis (Inverse Discrete Fourier Transform)</h3>\n",
        "\n",
        "Given only the Fourier frequency coefficients $X[k]$, one can recompose the signal $x[n]$ using what is called an \"Inverse Fourier Transform\". As for the transform used to find the frequency coefficients, measured data consisting of the values of an observable at discrete points in time will have an inverse transform consisting of a sum:\n",
        "\n",
        "$$x[n] = \\sum\\limits_{k=0}^{N-1}X[k]e^{i\\frac{2\\pi k}{N} n}$$\n"
      ]
    },
    {
      "cell_type": "markdown",
      "id": "73ada00d",
      "metadata": {
        "tags": [
          "learner",
          "catsoop_02",
          "md"
        ],
        "id": "73ada00d"
      },
      "source": [
        "In the figures shown below, the data are shown on the left and the frequency coefficients are shown on the right. For simplicity, the data is shown as a continuous line."
      ]
    },
    {
      "cell_type": "markdown",
      "id": "36d5cf9c",
      "metadata": {
        "tags": [
          "learner",
          "catsoop_02",
          "md"
        ],
        "id": "36d5cf9c"
      },
      "source": [
        "<p align=\"center\">\n",
        "<img alt=\"Fourer transform\" src=\"https://raw.githubusercontent.com/mitx-8s50/images/main/P03/box_transform_2.PNG\" width=\"600\"/>\n",
        "</p>\n"
      ]
    },
    {
      "cell_type": "markdown",
      "id": "a193b83e",
      "metadata": {
        "tags": [
          "learner",
          "catsoop_02",
          "md"
        ],
        "id": "a193b83e"
      },
      "source": [
        "Notice that when we tighten our signal in time (i.e. shorten the duration), the resulting frequency distribution is wider. This is a visual representation of the famous _uncertainty principle_! It arises in quantum mechanics because position and momentum obey the same Fourier relationship that time and frequency do here."
      ]
    },
    {
      "cell_type": "markdown",
      "id": "5483376a",
      "metadata": {
        "tags": [
          "learner",
          "catsoop_02",
          "md"
        ],
        "id": "5483376a"
      },
      "source": [
        "Take a look at the code below which uses numpy's built in `fft` method to take a discrete Fourier transform. Play around with the signal width and qualitatively verify that the uncertainty principle discussed above is valid.\n",
        "\n",
        "One very important feature of this code is the line:\n",
        "\n",
        "<pre>\n",
        "fourierTransform = np.fft.fft(amplitude)/len(amplitude)\n",
        "</pre>\n",
        "\n",
        "As the comment indicates, the Fourier transform is divided by `len(amplitude)` in order to normalize it, in other words to ensure that the integral is unity.\n"
      ]
    },
    {
      "cell_type": "code",
      "execution_count": null,
      "id": "dfa6fc38",
      "metadata": {
        "tags": [
          "learner",
          "py",
          "catsoop_02",
          "learner_chopped"
        ],
        "id": "dfa6fc38"
      },
      "outputs": [],
      "source": [
        "#>>>RUN: P3.2-runcell01\n",
        "\n",
        "import numpy as np\n",
        "import matplotlib.pyplot as plt\n",
        "\n",
        "samplingFrequency   = 100\n",
        "signal_width = 2\n",
        "\n",
        "#Plotting amplitude vs. time\n",
        "x = np.arange(-5, 5, .01)\n",
        "amplitude = np.piecewise(x, [x < 0-signal_width/2, ((x >= 0-signal_width/2) & (x < 0+signal_width/2)), x >= 0+signal_width/2], [0, 1, 0])\n",
        "plt.title('Signal across time',fontsize=15)\n",
        "plt.plot(x, amplitude)\n",
        "plt.xlabel('Time',fontsize=15)\n",
        "plt.ylabel('Amplitude',fontsize=15)\n",
        "# changing the fontsize of ticks\n",
        "plt.xticks(fontsize=12)\n",
        "plt.yticks(fontsize=12)\n",
        "plt.show()\n",
        "\n",
        "#Using np.fft.fft to take the Fourier transform\n",
        "fourierTransform = np.fft.fft(amplitude)/len(amplitude)    #Divide by length of the amplitude to normalize the transform\n",
        "fourierTransform = fourierTransform[range(-int(len(amplitude)/2),int(len(amplitude)/2))] #Only look in a select range\n",
        "\n",
        "#parametrize the frequency space\n",
        "tpCount     = len(amplitude)\n",
        "values      = np.arange(-int(tpCount/2), int(tpCount/2))\n",
        "timePeriod  = tpCount/samplingFrequency\n",
        "frequencies = values/timePeriod\n",
        "\n",
        "#Plot the frequency space\n",
        "plt.title('Fourier transform',fontsize=15)\n",
        "plt.plot(frequencies, abs(fourierTransform))\n",
        "plt.xlabel('Frequency',fontsize=15)\n",
        "plt.ylabel('Amplitude',fontsize=15)\n",
        "# changing the fontsize of ticks\n",
        "plt.xticks(fontsize=12)\n",
        "plt.yticks(fontsize=12)\n",
        "plt.show()\n"
      ]
    },
    {
      "cell_type": "markdown",
      "id": "160676ff",
      "metadata": {
        "tags": [
          "learner",
          "md",
          "catsoop_02"
        ],
        "id": "160676ff"
      },
      "source": [
        "<h3>Spectral Density/Power Spectrums</h3>\n",
        "\n",
        "The term \"spectral density\" is used to describe how the content of a signal is distributed over frequency space. There are two complementary versions depending on the nature of the signal.\n",
        "\n",
        "<h4>Energy Spectral Density (ESD)</h4>\n",
        "\n",
        "For transient (pulse-like) signals with are localized in time, one can quantify how their total energy is distributed. This is usually represented as simply the square of the amplitude of the Fourier transform as a function of frequency:\n",
        "\n",
        "$$\\overline{S}_{xx}(f) = |{X(f)}|^2$$\n",
        "\n",
        "<h4>Power Spectral Density (PSD)</h4>\n",
        "\n",
        "For continuous signals, i.e. ones that extend over all time (or, more realistically over a very long time), the total energy is very large, approaching infinity. In these cases, it is more useful to quantify the spectral density of the power. The power spectral density of a time series is the measure of how the signal's power is distributed across the frequency components that compose that signal.\n",
        "\n",
        "In order to simplify the math, we define a new quantity called the \"windowed signal\":\n",
        "\n",
        "$$x_T(t)=x(t)w_T(t)$$\n",
        "\n",
        "where the weight $w_T(t)$ is unity within some arbitrary time interval and zero outside that region. The power spectral density is defined as the normalized limit of the energy spectral density for the windowed signal:\n",
        "\n",
        "$$S_{xx}(f) = \\lim_{T \\to \\infty} \\frac{1}{T}|X_T(f)|^2 $$\n",
        "\n",
        "Alternatively, the PSD can be defined as the Fourier transform of the autocorrelation function $R_{xx}(\\tau)$ which can be described informally as how similar the signal is to itself over time. It is defined as:\n",
        "\n",
        "$$R_{xx}(\\tau)=\\int_{-\\infty}^{\\infty} x_T(t-\\tau)x_T(t)dt$$\n",
        "\n",
        "$$S_{xx}(f) = \\int_{-\\infty}^{\\infty} R_{xx}(\\tau)e^{-i2\\pi f\\tau}d\\tau$$\n",
        "\n",
        "\n",
        "\n",
        "<h4>Amplitude Spectral Density (ASD)</h4>\n",
        "\n",
        "The amplitude spectral density is just the square-root of the PSD.It is useful when the shape of the spectrum is rather constant, since variations in the ASD will then be proportional to variations in the amplitude of the signal itself.\n",
        "\n",
        "\n",
        "As one example, the plot below shows a typical ASD as measured by the LIGO experiment. Note that the vertical scale is logarithmic in order to show details of the relatively small signals at high frequencies. The frequency axis is also logarithmic in order to expand the structure at low values.\n",
        "\n",
        "<p align=\"center\">\n",
        "<img alt=\"ASD of LIGO data\" src=\"https://raw.githubusercontent.com/mitx-8s50/images/main/P03/spectrum.png\" width=\"500\"/>\n",
        "</p>\n",
        "\n",
        ">source: Project 1\n",
        "\n",
        "As you can see, the overall spectrum is dominated by a steep rise at low frequencies and then there are narrow spectral peaks throughout. Almost all of the structure that you see in this plot, both the overall shape and the peaks, arises from artifacts in the instrument itself (also called background sources) such as seismic noise and \"violin modes\" from the suspension fibers of the LIGO mirrors.\n",
        "\n",
        "As a side note, the peaks are often called \"lines\", a reference to viewing light passed through a diffraction grating, where regions of high intensity would create distinctive lines when the spectrum was projected onto a screen."
      ]
    },
    {
      "cell_type": "markdown",
      "id": "9f0051d5",
      "metadata": {
        "tags": [
          "learner",
          "md",
          "learner_chopped"
        ],
        "id": "9f0051d5"
      },
      "source": [
        "<a name='problems_3_2'></a>     \n",
        "\n",
        "| [Top](#section_3_0) | [Restart Section](#section_3_2) | [Next Section](#section_3_3) |\n"
      ]
    },
    {
      "cell_type": "markdown",
      "id": "ef8f6b1f",
      "metadata": {
        "tags": [
          "learner",
          "md",
          "learner_chopped"
        ],
        "id": "ef8f6b1f"
      },
      "source": [
        "### <span style=\"border:3px; border-style:solid; padding: 0.15em; border-color: #90409C; color: #90409C;\">Problem-3.2.1</span>\n",
        "\n",
        "Consider the `amplitude` function shown in the code below. it consists of a simple sum (or \"mixing\") of three different sinusoidal functions. Using `np.fft.fft`, translate this amplitude distribution from its time domain to its frequency domain. Make sure to normalize the Fourier transform (as done in the previouis code segment in this section).\n",
        "\n",
        "What is the height of the tallest peak in the frequency space? Enter your answer as a number with precision 1e-1."
      ]
    },
    {
      "cell_type": "code",
      "execution_count": null,
      "id": "9f5981e7",
      "metadata": {
        "tags": [
          "draft",
          "py",
          "learner_chopped"
        ],
        "id": "9f5981e7"
      },
      "outputs": [],
      "source": [
        "#>>>PROBLEM: P3.2.1\n",
        "# Use this cell for drafting your solution (if desired),\n",
        "# then enter your solution in the interactive problem online to be graded.\n",
        "\n",
        "samplingFrequency   = 100\n",
        "samplingInterval = 1 / samplingFrequency\n",
        "\n",
        "beginTime = 0\n",
        "endTime = 10\n",
        "\n",
        "time = np.arange(beginTime, endTime, samplingInterval);\n",
        "\n",
        "amplitude1 = np.sin(2*np.pi*23*time)\n",
        "amplitude2 = 3*np.sin(2*np.pi*17*time)\n",
        "amplitude3 = -1.5*np.sin(2*np.pi*13*time)\n",
        "\n",
        "amplitude = amplitude1 + amplitude2 + amplitude3\n",
        "plt.title('Sine wave with multiple frequencies',fontsize=15)\n",
        "plt.plot(time, amplitude)\n",
        "plt.xlabel('Time',fontsize=15)\n",
        "plt.ylabel('Amplitude',fontsize=15)\n",
        "# changing the fontsize of ticks\n",
        "plt.xticks(fontsize=12)\n",
        "plt.yticks(fontsize=12)\n",
        "plt.show()\n",
        "\n",
        "##############################################\n",
        "############## INSERT CODE HERE ##############\n",
        "##############################################\n",
        "\n",
        "\n",
        "##############################################\n",
        "##############################################\n",
        "\n",
        "plt.title('Fourier transform depicting the frequency components',fontsize=15)\n",
        "plt.grid(color='grey', linestyle='-', linewidth=1)\n",
        "plt.plot(frequencies, abs(fourierTransform))\n",
        "plt.xlabel('Frequency',fontsize=15)\n",
        "plt.ylabel('Amplitude',fontsize=15)\n",
        "# changing the fontsize of ticks\n",
        "plt.xticks(fontsize=12)\n",
        "plt.yticks(fontsize=12)\n",
        "plt.show()"
      ]
    },
    {
      "cell_type": "markdown",
      "id": "b31e20cd",
      "metadata": {
        "tags": [
          "learner",
          "md",
          "learner_chopped"
        ],
        "id": "b31e20cd"
      },
      "source": [
        "### <span style=\"border:3px; border-style:solid; padding: 0.15em; border-color: #90409C; color: #90409C;\">Problem-3.2.2</span>\n",
        "\n",
        "Compute the ESD and approximate the PSD and ASD of the signal consisting of the sum of three sinusoids as shown in the previous problem. What are the values of the ESD, PSD, and ASD at the frequency $f_0=17$ Hz?\n",
        "\n",
        "Use the following definitions:\n",
        "\n",
        "<pre>\n",
        "ESD = np.abs(fourierTransform)**2\n",
        "PSD = ESD/endTime\n",
        "ASD = np.sqrt(PSD)\n",
        "</pre>\n",
        "\n",
        "Enter your answer as a list of numbers `[ESD(f0), PSD(f0), ASD(f0)]` with precision 1e-2."
      ]
    },
    {
      "cell_type": "markdown",
      "id": "92a704e8",
      "metadata": {
        "tags": [
          "learner",
          "md",
          "learner_chopped"
        ],
        "id": "92a704e8"
      },
      "source": [
        "<a name='section_3_3'></a>\n",
        "<hr style=\"height: 1px;\">\n",
        "\n",
        "## <h2 style=\"border:1px; border-style:solid; padding: 0.25em; color: #FFFFFF; background-color: #90409C\">P3.3 Spectrogram and Q-Transform</h2>   \n",
        "\n",
        "| [Top](#section_3_0) | [Previous Section](#section_3_2) | [Problems](#problems_3_3) |\n"
      ]
    },
    {
      "cell_type": "markdown",
      "id": "d54d24a2",
      "metadata": {
        "tags": [
          "learner",
          "catsoop_03",
          "md"
        ],
        "id": "d54d24a2"
      },
      "source": [
        "<h3>Overview</h3>\n",
        "\n",
        "- To better understand a system, we can bridge the gap between the frequency and time domains with another transform.\n",
        "- The Short-Time Fourier Transform takes the Fourier transform within shorter time segments.\n",
        "- The resulting visual representation is called a \"spectrogram\" which can be thought of as a series of Fourier transforms stacked on their side.\n",
        "\n",
        "The figure below shows an example of such a spectrogram. You can clearly see that the dominant frequencies (the bright lines) move around as a function of time.\n",
        "\n",
        "<p align=\"center\">\n",
        "<img alt=\"spectrogram example 1\" src=\"https://raw.githubusercontent.com/mitx-8s50/images/main/P03/motif_sgram.png\" width=\"500\"/>\n",
        "</p>\n",
        "\n",
        "The Q-transform breaks these intervals up with logarithmic spacing, which is particularly useful for audio signals (and other signals, as we will see). Below we see an example of the difference between a spectrogram and a Q-transform.\n",
        "\n",
        "\n",
        "<p align=\"center\">\n",
        "<img alt=\"spectrogram example 2\" src=\"https://raw.githubusercontent.com/mitx-8s50/images/main/P03/stft_vs_q_gautham.png\" width=\"600\"/>\n",
        "</p>\n",
        "\n",
        ">source: https://ccrma.stanford.edu/~gautham/Site/Multipitch.html <br>\n",
        ">attribution: Stanford"
      ]
    },
    {
      "cell_type": "markdown",
      "id": "f0e8b12d",
      "metadata": {
        "tags": [
          "learner",
          "catsoop_03",
          "md"
        ],
        "id": "f0e8b12d"
      },
      "source": [
        "<h3>Whitening data</h3>\n",
        "\n",
        "To better visualize deviations from the noise, it is useful to employ a technique called \"whitening\". This procedure takes the data and attempts to make the power spectral density flat (i.e. normalize the power at all frequencies) so that excess power at any frequency is more obvious. Persistent signals like noise will have their power spread across the entire time window, while any localized signals will have all of their power in one region of time and will show up as clear spikes.\n",
        "\n",
        "Whitening can be achieved (roughly speaking) by applying the inverse frequency response of the raw signal.\n",
        "\n",
        "Example: Transmitted power in one of the interferometer arms with two large glitches with a frequency around 5-50Hz at times of 11.5 and 17 seconds.\n",
        "\n",
        "<p align=\"center\">\n",
        "<img alt=\"LIGO data whitened\" src=\"https://raw.githubusercontent.com/mitx-8s50/images/main/P03/whiteningexample_gwpy.png\" width=\"800\"/>\n",
        "</p>\n",
        "\n",
        ">source: Project 1"
      ]
    },
    {
      "cell_type": "markdown",
      "id": "eef3442d",
      "metadata": {
        "tags": [
          "learner",
          "catsoop_03",
          "md"
        ],
        "id": "eef3442d"
      },
      "source": [
        "<h3>Filtering</h3>\n",
        "\n",
        "Filtering refers to the attenuation of the components of a signal in a particular range of frequencies. This has the complementary effect of amplifying the components at other frequencies once the filtered spectrum is renormalized. While filtering can, in principle, be done in the time domain, is best performed within the frequency domain.\n",
        "\n",
        "The effect of a particular filter is usually represented as a set of scale factors in the frequency domain. Also called the frequency response of the filtering system, the frequency spectrum is multiplied by these factors to produce the modified output spectrum.\n",
        "    \n",
        "The figure below shows examples of such scale factors as a function of frequency. The names that are applied to these various examples describe the effect of suppressing certain frequencies (the areas where the scale factors go to zero). Because the output is what matters, the names of such filters typically describe the frequencies that \"pass\" through the filter, i.e. those that are not suppressed.\n",
        "\n",
        "    \n",
        "<p align=\"center\">\n",
        "<img alt=\"bandpass examples\" src=\"https://raw.githubusercontent.com/mitx-8s50/images/main/P03/filters.png\" width=\"800\"/>\n",
        "</p>"
      ]
    },
    {
      "cell_type": "markdown",
      "id": "5d12119f",
      "metadata": {
        "tags": [
          "learner",
          "catsoop_03",
          "md"
        ],
        "id": "5d12119f"
      },
      "source": [
        "<h3>Example with Sound File</h3>\n",
        "\n",
        "We are going to work through an example of filtering using an audio file. First, we will import the relevant libraries and then download a free file containing the sound to be filtered.\n",
        "\n",
        "To read more about soundfile and sounddevice, see here:\n",
        "\n",
        "- https://pysoundfile.readthedocs.io/en/latest/\n",
        "- https://python-sounddevice.readthedocs.io/en/0.4.5/\n",
        "\n",
        "\n",
        "**Note: If you are running this Jupyter notebook locally, sound files may not play in all browsers. You may encounter issues in Safari, for instance.**\n",
        "\n",
        "See the source and attribution information for the audio file below:\n",
        "\n",
        "\n",
        ">data: data/P03/track.flac <br>\n",
        ">source: https://freesound.org/s/647536/ <br>\n",
        ">attribution: Bertsz <br>\n",
        ">license type: This work is licensed under the Creative Commons 0 License."
      ]
    },
    {
      "cell_type": "code",
      "execution_count": null,
      "id": "42e72a9a",
      "metadata": {
        "tags": [
          "learner",
          "py",
          "catsoop_03",
          "learner_chopped"
        ],
        "id": "42e72a9a"
      },
      "outputs": [],
      "source": [
        "#>>>RUN: P3.3-runcell01\n",
        "\n",
        "import time\n",
        "import soundfile as sf\n",
        "import numpy as np\n",
        "from matplotlib import pyplot as plt\n",
        "from IPython.display import Audio, display\n",
        "\n",
        "#first we load a sound from this link here https://freesound.org/s/647536/\n",
        "\n",
        "data, samplerate = sf.read('data/P03/track.flac')"
      ]
    },
    {
      "cell_type": "markdown",
      "id": "6c3c106e",
      "metadata": {
        "tags": [
          "learner",
          "catsoop_03",
          "md"
        ],
        "id": "6c3c106e"
      },
      "source": [
        "<h4>Amplitude and Frequency Manipulation</h4>\n",
        "\n",
        "Working through the code cells below, we will do the following:\n",
        "\n",
        "- Play the original file for 2 seconds\n",
        "- Play a note at 440 Hz\n",
        "- Fourier transform the 440 Hz note and plot the frequency spectrum\n",
        "- Decrease the amplitude of the 440 Hz note in Fourier space, convert back to the time domain, and play the result\n",
        "- Shift the frequency of the 440 Hz note in Fourier space (converting it to 880 Hz), convert back to the time domain, and play\n",
        "\n",
        "The `play()` function used in these code cells will create a small pop-up window. Click the arrow to play the sound. After the sound output finishes, just click the arrow again to replay it. If you want, you can actually run two or more of these sounds at the same time. To avoid an excessively loud sound, you may want to turn down your audio output the first time you play one of these results."
      ]
    },
    {
      "cell_type": "code",
      "execution_count": null,
      "id": "399ffd5d",
      "metadata": {
        "tags": [
          "learner",
          "py",
          "catsoop_03",
          "learner_chopped"
        ],
        "id": "399ffd5d"
      },
      "outputs": [],
      "source": [
        "#>>>RUN: P3.3-runcell02\n",
        "\n",
        "#play the original file\n",
        "#the original file is 60s\n",
        "\n",
        "def play(iArray,iFS):\n",
        "    sf.write('data/P03/tmp.flac', iArray, iFS)\n",
        "    display(Audio('data/P03/tmp.flac',autoplay=False))\n",
        "\n",
        "\n",
        "play(data,samplerate)"
      ]
    },
    {
      "cell_type": "code",
      "execution_count": null,
      "id": "28a7c38c",
      "metadata": {
        "tags": [
          "learner",
          "py",
          "catsoop_03",
          "learner_chopped"
        ],
        "id": "28a7c38c"
      },
      "outputs": [],
      "source": [
        "#>>>RUN: P3.3-runcell03\n",
        "\n",
        "#play the original file for 2 seconds\n",
        "#the original file is 60s\n",
        "\n",
        "sec=2\n",
        "min=0\n",
        "max=int((sec/60.)*len(data))\n",
        "play(data[min:max],samplerate)"
      ]
    },
    {
      "cell_type": "code",
      "execution_count": null,
      "id": "c8668068",
      "metadata": {
        "tags": [
          "learner",
          "py",
          "catsoop_03",
          "learner_chopped"
        ],
        "id": "c8668068"
      },
      "outputs": [],
      "source": [
        "#>>>RUN: P3.3-runcell04\n",
        "\n",
        "#play a note at 440 Hz\n",
        "sec=2\n",
        "timeseq = np.arange(0,sec,1./samplerate);\n",
        "\n",
        "#let's do an A at 440Hz\n",
        "a440 = np.sin(2*np.pi*440*timeseq)\n",
        "play(a440,samplerate)"
      ]
    },
    {
      "cell_type": "code",
      "execution_count": null,
      "id": "bc5982ef",
      "metadata": {
        "tags": [
          "learner",
          "py",
          "catsoop_03",
          "learner_chopped"
        ],
        "id": "bc5982ef"
      },
      "outputs": [],
      "source": [
        "#>>>RUN: P3.3-runcell05\n",
        "\n",
        "#Fourier transform the 440 Hz note and plot the frequency spectrum\n",
        "fta440 = np.fft.fft(a440)\n",
        "\n",
        "values      = np.arange(int(len(a440)))\n",
        "timePeriod  = len(a440)/samplerate\n",
        "frequencies = values/timePeriod\n",
        "plt.plot(frequencies[0:2000],np.abs(fta440[0:2000]))\n",
        "plt.show()"
      ]
    },
    {
      "cell_type": "code",
      "execution_count": null,
      "id": "cf342c1b",
      "metadata": {
        "tags": [
          "learner",
          "py",
          "catsoop_03",
          "learner_chopped"
        ],
        "id": "cf342c1b"
      },
      "outputs": [],
      "source": [
        "#>>>RUN: P3.3-runcell06\n",
        "\n",
        "#decrease the amplitude of the 440 Hz note in Fourier space,\n",
        "#convert back to the time domain and play\n",
        "ifta440 = np.fft.ifft(fta440*0.1)\n",
        "\n",
        "play(ifta440.real,samplerate)"
      ]
    },
    {
      "cell_type": "code",
      "execution_count": null,
      "id": "5c686f20",
      "metadata": {
        "tags": [
          "learner",
          "py",
          "catsoop_03",
          "learner_chopped"
        ],
        "id": "5c686f20"
      },
      "outputs": [],
      "source": [
        "#>>>RUN: P3.3-runcell07\n",
        "\n",
        "#shift the frequency of the 440 Hz note in Fourier space (converting to 880 Hz),\n",
        "#convert back to the time domain and play\n",
        "fta880  = fta440\n",
        "fta880[880*2] = fta440[440*2]\n",
        "fta880[440*2] = 0\n",
        "ifta880 = np.fft.ifft(fta880)\n",
        "\n",
        "play(ifta880.real,samplerate)"
      ]
    },
    {
      "cell_type": "markdown",
      "id": "a8b71ee1",
      "metadata": {
        "tags": [
          "learner",
          "catsoop_03",
          "md"
        ],
        "id": "a8b71ee1"
      },
      "source": [
        "<h4>Bass Boosting</h4>\n",
        "\n",
        "Now we will manipulate the data in Fourier space to increase the amplitude of the lower frequencies. We first plot the result of this manipulation in the frequency domain.\n",
        "\n",
        "Note that in the following plots, the before signal is plotted as light blue, the after signal is plotted as light peach, and anyplace where the two overlap is a mixture of both colors."
      ]
    },
    {
      "cell_type": "code",
      "execution_count": null,
      "id": "279e7629",
      "metadata": {
        "tags": [
          "learner",
          "py",
          "catsoop_03",
          "learner_chopped"
        ],
        "id": "279e7629"
      },
      "outputs": [],
      "source": [
        "#>>>RUN: P3.3-runcell08\n",
        "\n",
        "length_sec=len(data)/samplerate\n",
        "fc = 400 #cutoff frequency in Hz; boost all frequency content below fc\n",
        "kc = int(fc*length_sec)\n",
        "\n",
        "X = np.fft.fft(data[:,0])\n",
        "Y = X.copy() #copy values from X\n",
        "#boost the bass\n",
        "Y[:kc]    = [i*10 for i in X[:kc]]\n",
        "\n",
        "def plotFFT(X,Y,data,samplerate):\n",
        "    values      = np.arange(int(len(data[:,0])))\n",
        "    timePeriod  = len(data[:,0])/samplerate\n",
        "    frequencies = values/timePeriod\n",
        "    plt.plot(frequencies[0:int(length_sec*2000)],np.abs(X[0:int(length_sec*2000)]),alpha=0.5,label='before')\n",
        "    plt.plot(frequencies[0:int(length_sec*2000)],np.abs(Y[0:int(length_sec*2000)]),alpha=0.5,label='after')\n",
        "    plt.ylabel('amp')\n",
        "    plt.xlabel('freq')\n",
        "    plt.legend()\n",
        "    plt.yscale('log')\n",
        "    plt.show()\n",
        "\n",
        "plotFFT(X,Y,data,samplerate)"
      ]
    },
    {
      "cell_type": "markdown",
      "id": "dc5d8d79",
      "metadata": {
        "tags": [
          "learner",
          "catsoop_03",
          "md"
        ],
        "id": "dc5d8d79"
      },
      "source": [
        "Now we take the inverse Fourier transform and play the audio to compare with the original."
      ]
    },
    {
      "cell_type": "code",
      "execution_count": null,
      "id": "17d88e82",
      "metadata": {
        "tags": [
          "learner",
          "py",
          "catsoop_03",
          "learner_chopped"
        ],
        "id": "17d88e82"
      },
      "outputs": [],
      "source": [
        "#>>>RUN: P3.3-runcell09\n",
        "\n",
        "## Inverse Fourier transform and recombine into a .wav file\n",
        "y = np.fft.ifft(Y)\n",
        "\n",
        "#start the file at 30 sec\n",
        "def replay(y,data,samplerate=samplerate,playtime=10):\n",
        "    print(\"play 1st: altered waveform\")\n",
        "    play(y[30*samplerate:(30+playtime)*samplerate].real,samplerate)\n",
        "\n",
        "    print(\"play 2nd: original\")\n",
        "    #and for comparison\n",
        "    play(data[30*samplerate:(30+playtime)*samplerate].real,samplerate)\n",
        "\n",
        "\n",
        "replay(y,data)"
      ]
    },
    {
      "cell_type": "markdown",
      "id": "9e707f09",
      "metadata": {
        "tags": [
          "learner",
          "catsoop_03",
          "md"
        ],
        "id": "9e707f09"
      },
      "source": [
        "<h4>Bass Isolation (Low Pass)</h4>\n",
        "\n",
        "Finally, we use a low pass filter to truncate the data in the frequency domain. Again, the plot below shows the waveform in Fourier space, and then the time domain data are played."
      ]
    },
    {
      "cell_type": "code",
      "execution_count": null,
      "id": "d6fc798d",
      "metadata": {
        "tags": [
          "learner",
          "py",
          "catsoop_03",
          "learner_chopped"
        ],
        "id": "d6fc798d"
      },
      "outputs": [],
      "source": [
        "#>>>RUN: P3.3-runcell10\n",
        "\n",
        "fc = 1000 #cutoff frequency in Hz; boost all frequency content below fc\n",
        "kc = int(fc*length_sec)\n",
        "\n",
        "X = np.fft.fft(data[:,0])\n",
        "Y = X.copy() #copy values from X\n",
        "Y[:kc]    = [i*10 for i in X[:kc]]\n",
        "Y[kc:]    = [i*0 for i in X[kc:]]\n",
        "y = np.fft.ifft(Y)\n",
        "\n",
        "plotFFT(X,Y,data,samplerate)\n",
        "replay(y,data,samplerate)"
      ]
    },
    {
      "cell_type": "markdown",
      "id": "e19e97c8",
      "metadata": {
        "tags": [
          "learner",
          "catsoop_03",
          "md"
        ],
        "id": "e19e97c8"
      },
      "source": [
        "<h4>Signal Detection and Matched Filtering</h4>\n",
        "\n",
        "- If we have an unknown, noisy signal we can try to detect the presence of a known signal with matched filtering.\n",
        "- If we *know* or *guess* the signal we're looking for (called the *template*), we can use it as a filter for combing the data for the presence of that template.\n",
        "- Matched filters work by maximizing the signal to noise ratio (SNR) when the matched filter detects the presence of the template signal in a noisy signal.\n",
        "- We will talk more about convolutions next week but we can informally think of a matched filter as:\n",
        "- \"Drag\" or sweep your template across the signal and calculate some statistic.\n",
        "- The optimal statistic suggests the presence of a signal.\n",
        "\n",
        "<p align=\"center\">\n",
        "<img alt=\"whitened data around event\" src=\"https://raw.githubusercontent.com/mitx-8s50/images/main/P03/template.png\" width=\"700\"/>\n",
        "</p>\n",
        "<p align=\"center\">\n",
        "<img alt=\"matched filtering\" src=\"https://raw.githubusercontent.com/mitx-8s50/images/main/P03/SNR.png\" width=\"700\"/>\n",
        "</p>"
      ]
    },
    {
      "cell_type": "markdown",
      "id": "06e0a76b",
      "metadata": {
        "tags": [
          "learner",
          "catsoop_03",
          "md"
        ],
        "id": "06e0a76b"
      },
      "source": [
        "There are many features in our example data that we might want to highlight. Lets take a look at a specific frequency range and see if we can find some features. Let's plot between 500 and 600 Hz."
      ]
    },
    {
      "cell_type": "code",
      "execution_count": null,
      "id": "9dfaf904",
      "metadata": {
        "tags": [
          "learner",
          "py",
          "catsoop_03",
          "learner_chopped"
        ],
        "id": "9dfaf904"
      },
      "outputs": [],
      "source": [
        "#>>>RUN: P3.3-runcell11\n",
        "\n",
        "dft_cof = np.fft.fft(data[:,0])\n",
        "values      = np.arange(int(len(data[:,0])))\n",
        "timePeriod  = len(data[:,0])/samplerate\n",
        "frequencies = values/timePeriod\n",
        "minHz=500\n",
        "maxHz=600\n",
        "plt.plot(frequencies[int(length_sec*minHz):int(length_sec*maxHz)],np.abs(X[int(length_sec*minHz):int(length_sec*maxHz)]),alpha=0.5)\n",
        "plt.ylabel('amp')\n",
        "plt.xlabel('freq')\n",
        "plt.show()\n"
      ]
    },
    {
      "cell_type": "markdown",
      "id": "edf6b17d",
      "metadata": {
        "tags": [
          "learner",
          "catsoop_03",
          "md"
        ],
        "id": "edf6b17d"
      },
      "source": [
        "Hmm, I wonder if we can isolate the peak region and hear something. Let's do +/- 30 Hz around. Do you hear something? What about +/- 130 Hz around?"
      ]
    },
    {
      "cell_type": "code",
      "execution_count": null,
      "id": "c45e200e",
      "metadata": {
        "tags": [
          "learner",
          "py",
          "catsoop_03",
          "learner_chopped"
        ],
        "id": "c45e200e"
      },
      "outputs": [],
      "source": [
        "#>>>RUN: P3.3-runcell12\n",
        "\n",
        "#now let's isolate a frequency\n",
        "minHz=0\n",
        "maxHz=int(len(dft_cof)/int(length_sec))\n",
        "isofreq=550\n",
        "freqrange=30 #130\n",
        "dft_cof = np.fft.fft(data[:,0])\n",
        "norm=np.sum(dft_cof)\n",
        "for tmpfreq in range(minHz*int(length_sec),maxHz*int(length_sec)):\n",
        "    if (float(tmpfreq) < (isofreq-freqrange)*length_sec) or (float(tmpfreq) > (isofreq+freqrange)*length_sec):\n",
        "        dft_cof[tmpfreq] *= 0\n",
        "\n",
        "scale=np.sum(dft_cof)/norm #CHANGE THE SCALE TO INCREASE THE AMPLITUDE IF NEEDED\n",
        "dft_cof*=scale\n",
        "plotFFT(X,dft_cof,data,samplerate)\n",
        "isofreqdata = np.fft.ifft(dft_cof)\n",
        "x           = np.fft.ifft(X)\n",
        "\n",
        "replay(isofreqdata,x)"
      ]
    },
    {
      "cell_type": "markdown",
      "id": "9b1454bc",
      "metadata": {
        "tags": [
          "learner",
          "md",
          "learner_chopped"
        ],
        "id": "9b1454bc"
      },
      "source": [
        "<a name='problems_3_3'></a>   \n",
        "\n",
        "| [Top](#section_3_0) | [Restart Section](#section_3_3) |\n"
      ]
    },
    {
      "cell_type": "markdown",
      "id": "6244008c",
      "metadata": {
        "tags": [
          "learner",
          "md",
          "learner_chopped"
        ],
        "id": "6244008c"
      },
      "source": [
        "### <span style=\"border:3px; border-style:solid; padding: 0.15em; border-color: #90409C; color: #90409C;\">Problem-3.3.1</span>\n",
        "\n",
        "\n",
        "Now, we are going to use the same sound file and modify the song so that the amplitude across each range is exactly the same. This a variation of what we call whitening.\n",
        "\n",
        "The idea will be that we go into frequency space and the compute the amplitude $A=\\sqrt{\\overline{S}_{xx}(f)} = \\sqrt{|{X(f)}|^2}$. We can then take our sample in frequency space and divide by the amplitude over all of frequency space. We call this `dft_cof_adjusted` in the code below. Finally, we can take the inverse Fourier transform and listen to the result.\n",
        "\n",
        "\n",
        "Complete the code below to calculate `dft_cof_adjusted`, and achieve the objectives outlined above. What does the processed file sound like?  (Note will will have to rescale the normalized sound by a constant so you can hear it).\n",
        "\n",
        "Choose from the options below:\n",
        "\n",
        "- The processed file sounds much clearer, as all of the noise has been removed.\n",
        "- There is a lot of high freqeuncy noise now because we increased the high frequency amplitudes and lowered the low frequency.\n",
        "- There is a lot of low frequeuncy noise now because we increased the low freqency amplitudes and increased the high frequency.\n"
      ]
    },
    {
      "cell_type": "code",
      "execution_count": null,
      "id": "cc277715",
      "metadata": {
        "tags": [
          "draft",
          "py",
          "learner_chopped"
        ],
        "id": "cc277715"
      },
      "outputs": [],
      "source": [
        "#>>>PROBLEM: P3.3.1\n",
        "# Use this cell for drafting your solution (if desired),\n",
        "# then enter your solution in the interactive problem online to be graded.\n",
        "\n",
        "length_sec=len(data)/samplerate\n",
        "dft_cof = np.fft.fft(data[:,0])\n",
        "\n",
        "dft_cof_adjusted=#Insert code here\n",
        "\n",
        "#Not you may need to scale amplitde with line below\n",
        "#dft_cof_adjusted*=500\n",
        "\n",
        "plotFFT(X,dft_cof_adjusted,data,samplerate)\n",
        "isofreqdata = np.fft.ifft(dft_cof_adjusted)\n",
        "X           = np.fft.fft(data[:,0])\n",
        "x           = np.fft.ifft(X)\n",
        "replay(isofreqdata,x,playtime=16)\n"
      ]
    },
    {
      "cell_type": "markdown",
      "id": "5b3c3300",
      "metadata": {
        "tags": [
          "learner",
          "md",
          "learner_chopped"
        ],
        "id": "5b3c3300"
      },
      "source": [
        "### <span style=\"border:3px; border-style:solid; padding: 0.15em; border-color: #90409C; color: #90409C;\">Problem-3.3.2</span>\n",
        "\n",
        "Now inject sine waves raning from  440 Hz to 880 Hz with a spacing of 50Hz into the data, by adding these to the signal. Use the amplitdue of 0.01 as specified in the 440 Hz example below. Our objective is to compare how well we can hear the injected signal in the data before and after whitening. Does whitening enable us to hear the injected signal more clearly?\n",
        "\n",
        "Whiten the dataset with the injected signal using the the amplitude $A$ of the non-injected, raw data. Call this whitened data `dft_cof_inj_n`.\n",
        "\n",
        "After whitening the data, run the function `replay_inj` and listen to the sample before and after whitening. Do you hear the added sine waves in either sound sample? What about if you increase the amplitude to 0.1?\n",
        "\n",
        "Select the option below that best describes the effect of whitening:\n",
        "\n",
        "- Whitening makes the signal clear over the background noise.\n",
        "- Whitening smooths both the original data and signal so that the two are indistinguishable.\n",
        "- Whitening has no affect on the injected signal.\n"
      ]
    },
    {
      "cell_type": "code",
      "execution_count": null,
      "id": "b488e73e",
      "metadata": {
        "tags": [
          "py",
          "draft",
          "learner_chopped"
        ],
        "id": "b488e73e"
      },
      "outputs": [],
      "source": [
        "#>>>PROBLEM: P3.3.2\n",
        "\n",
        "length_sec=len(data)/samplerate\n",
        "raw_data      = data[:,0].copy()\n",
        "data_injected = data[:,0].copy()\n",
        "timeseq = np.arange(0,length_sec,1./samplerate);\n",
        "\n",
        "amp=0.01 #TRY CHANGING THIS VALUE TO 0.1\n",
        "\n",
        "#example injection for 440\n",
        "a440 = (np.sin(2*np.pi*440*timeseq+np.pi))*amp\n",
        "data_injected+=a440\n",
        "\n",
        "#YOUR CODE HERE\n",
        "#WRITE A LOOP TO ADD THE SIGNALS IN THE FREQUENCY RANGE range(440,880,50)\n",
        "\n",
        "dft_cof     = np.fft.fft(raw_data)\n",
        "dft_cof_inj = np.fft.fft(data_injected)\n",
        "#dft_cof_inj_n = #YOUR CODE HERE\n",
        "\n",
        "#Note you will have to scale up the volume again\n",
        "#dft_cof_inj_n*=500\n",
        "\n",
        "#Inverse fourier transform\n",
        "isofreqdata = np.fft.ifft(dft_cof_inj_n)\n",
        "\n",
        "#Now Plot it and Play it\n",
        "plotFFT(dft_cof_inj,dft_cof_inj_n,data,samplerate)\n",
        "\n",
        "#DEFINING A FUNCTION TO COMAPRE DATA WITH INJECTED SIGNAL\n",
        "def replay_inj(y,data,samplerate=samplerate,playtime=10):\n",
        "    print(\"play 1st: data with injected signal\")\n",
        "    play(data[30*samplerate:(30+playtime)*samplerate].real,samplerate)\n",
        "\n",
        "    print(\"play 2nd: whitened data with injected signal\")\n",
        "    #and for comparison\n",
        "    play(y[30*samplerate:(30+playtime)*samplerate].real,samplerate)\n",
        "\n",
        "replay_inj(isofreqdata,data_injected,playtime=16)\n"
      ]
    }
  ],
  "metadata": {
    "celltoolbar": "Tags",
    "kernelspec": {
      "display_name": "Python 3 (ipykernel)",
      "language": "python",
      "name": "python3"
    },
    "language_info": {
      "codemirror_mode": {
        "name": "ipython",
        "version": 3
      },
      "file_extension": ".py",
      "mimetype": "text/x-python",
      "name": "python",
      "nbconvert_exporter": "python",
      "pygments_lexer": "ipython3",
      "version": "3.9.9"
    },
    "colab": {
      "provenance": []
    }
  },
  "nbformat": 4,
  "nbformat_minor": 5
}
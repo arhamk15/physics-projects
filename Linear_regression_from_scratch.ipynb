{
  "nbformat": 4,
  "nbformat_minor": 0,
  "metadata": {
    "colab": {
      "provenance": [],
      "authorship_tag": "ABX9TyMUC3G5wwzgQVpoX6FS7gd5",
      "include_colab_link": true
    },
    "kernelspec": {
      "name": "python3",
      "display_name": "Python 3"
    },
    "language_info": {
      "name": "python"
    }
  },
  "cells": [
    {
      "cell_type": "markdown",
      "metadata": {
        "id": "view-in-github",
        "colab_type": "text"
      },
      "source": [
        "<a href=\"https://colab.research.google.com/github/arhamk15/physics-projects/blob/main/Linear_regression_from_scratch.ipynb\" target=\"_parent\"><img src=\"https://colab.research.google.com/assets/colab-badge.svg\" alt=\"Open In Colab\"/></a>"
      ]
    },
    {
      "cell_type": "code",
      "execution_count": 1,
      "metadata": {
        "id": "uEyPGnPaSyou"
      },
      "outputs": [],
      "source": [
        "import numpy as np\n",
        "import matplotlib.pyplot as plt\n"
      ]
    },
    {
      "cell_type": "code",
      "source": [
        "def ssr(y_true, y_pred): # cost function\n",
        "  value = ((y_true - y_pred)**2).sum()\n",
        "  return value\n",
        "\n",
        "\n",
        "def gradient_descent(x,y , learning_rate = 0.001, stopping_step_size = 0.001, iterations = 500):\n",
        "  w = 0.01\n",
        "  c = 0\n",
        "  runs= 0\n",
        "\n",
        "  cost_array = []\n",
        "  w_array = []\n",
        "  c_array = []\n",
        "\n",
        "  while runs < iterations:\n",
        "    y_pred = w*x + c\n",
        "    cost = ssr(y,y_pred)\n",
        "    cost_array.append(cost)\n",
        "\n",
        "    if cost > stopping_step_size**2 :\n",
        "      # Calculate gradients\n",
        "      gradient_w = -2 * (x * (y - y_pred)).sum()\n",
        "      gradient_c = -2 * (y - y_pred).sum()\n",
        "\n",
        "      # Update w and c\n",
        "      w = w - learning_rate * gradient_w\n",
        "      c = c - learning_rate * gradient_c\n",
        "\n",
        "\n",
        "\n",
        "\n",
        "    w_array.append(w)\n",
        "    c_array.append(c)\n",
        "\n",
        "    runs += 1\n",
        "\n",
        "\n",
        "  #plt.scatter(w_array, cost_array, color = 'red')\n",
        "  #plt.scatter(c_array, cost_array, color = 'blue')\n",
        "\n",
        "  plt.plot(x, y, 'o')\n",
        "  plt.plot(x, w*x + c, 'r')\n",
        "  print(w,c)\n",
        "  return w,c\n",
        "\n",
        "\n",
        "  #### some loop(s) to be added\n",
        "\n",
        "\n",
        "\n",
        "\n",
        "\n",
        "\n",
        "\n",
        "\n",
        "result = gradient_descent(x =  np.array([1,2,7,10,23]), y = np.array([6,9,15,20,50]), learning_rate = 0.001, stopping_step_size = 0.001, iterations = 200)\n",
        "result"
      ],
      "metadata": {
        "id": "pE9EEHMdS9Ak",
        "colab": {
          "base_uri": "https://localhost:8080/",
          "height": 465
        },
        "outputId": "a4826463-c237-448d-db81-6bad9b548626"
      },
      "execution_count": 53,
      "outputs": [
        {
          "output_type": "stream",
          "name": "stdout",
          "text": [
            "2.048879223162166 1.8553738689197967\n"
          ]
        },
        {
          "output_type": "execute_result",
          "data": {
            "text/plain": [
              "(np.float64(2.048879223162166), np.float64(1.8553738689197967))"
            ]
          },
          "metadata": {},
          "execution_count": 53
        },
        {
          "output_type": "display_data",
          "data": {
            "text/plain": [
              "<Figure size 640x480 with 1 Axes>"
            ],
            "image/png": "[encoded data removed]"
          },
          "metadata": {}
        }
      ]
    },
    {
      "cell_type": "code",
      "source": [],
      "metadata": {
        "id": "k_IIxsqQRho5"
      },
      "execution_count": null,
      "outputs": []
    },
    {
      "cell_type": "code",
      "source": [
        "np."
      ],
      "metadata": {
        "id": "tM3olZEsJ5D-"
      },
      "execution_count": null,
      "outputs": []
    }
  ]
}